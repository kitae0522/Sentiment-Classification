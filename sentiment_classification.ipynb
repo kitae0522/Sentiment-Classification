{
 "cells": [
  {
   "cell_type": "markdown",
   "metadata": {
    "id": "s0RxmvNVeGLA"
   },
   "source": [
    "# 텍스트 기반 긍-부정 감정 판별\n",
    "\n",
    "- Last Updated : 2021/07/23\n",
    "- Author : **Song Kitae** (Department of AI Software, Dankook Software High School)\n",
    "- Title : sentiment_classification.ipynb\n",
    "- Use Module : **`Tensorflow 2`**, **`Keras`**....\n",
    "- Key Word : 딥러닝, 문장 인식, 감정 분석"
   ]
  },
  {
   "cell_type": "markdown",
   "metadata": {
    "id": "Nl3VWL1DuAMI"
   },
   "source": [
    "# Abstract\n",
    "1. SST2, Twitter, Reddit을 합친 데이터셋을 학습하여 감정 분석 인공지능을 제작함.\n",
    "2. 영어로 된 문장의 감정 상태를 예측하여 글을 쓴 사람의 감정 상태(긍-부정)을 판단함.\n",
    "3. 영어로 된 문장을 판별하는데 90%의 정확도를 얻어냄."
   ]
  },
  {
   "cell_type": "code",
   "execution_count": 171,
   "metadata": {
    "colab": {
     "base_uri": "https://localhost:8080/"
    },
    "id": "9__lMIdcjhvt",
    "outputId": "3079711c-9e9e-489b-c183-2f4a96ce37c1"
   },
   "outputs": [
    {
     "name": "stdout",
     "output_type": "stream",
     "text": [
      "2.5.0\n",
      "1.1.5\n",
      "1.19.5\n"
     ]
    }
   ],
   "source": [
    "import tensorflow as tf\n",
    "from tensorflow import keras\n",
    "import pandas as pd\n",
    "import numpy as np\n",
    "import matplotlib.pyplot as plt\n",
    "from sklearn.model_selection import train_test_split\n",
    "\n",
    "print(tf.__version__)\n",
    "print(pd.__version__)\n",
    "print(np.__version__)"
   ]
  },
  {
   "cell_type": "markdown",
   "metadata": {
    "id": "cpzL6700kY7u"
   },
   "source": [
    "# 데이터셋\n",
    "- 본 모델은 아래의 데이터들을 토대로 학습합니다. (총 138,785 문장)\n",
    "    - Stanford Sentiment Treebank (i.e. SST2) : (6,920 문장)\n",
    "    - Twitter : (82,914 문장)\n",
    "    - Reddit : (24,107 문장)\n",
    "    - 여러 사이트를 돌아다니며 모은 문장 : (24,844 문장)"
   ]
  },
  {
   "cell_type": "code",
   "execution_count": 175,
   "metadata": {
    "colab": {
     "base_uri": "https://localhost:8080/",
     "height": 376
    },
    "id": "QeeVHyLMjpAI",
    "outputId": "e738323b-c8c1-40cf-984c-66981cca0d52"
   },
   "outputs": [
    {
     "data": {
      "text/html": [
       "<div>\n",
       "<style scoped>\n",
       "    .dataframe tbody tr th:only-of-type {\n",
       "        vertical-align: middle;\n",
       "    }\n",
       "\n",
       "    .dataframe tbody tr th {\n",
       "        vertical-align: top;\n",
       "    }\n",
       "\n",
       "    .dataframe thead th {\n",
       "        text-align: right;\n",
       "    }\n",
       "</style>\n",
       "<table border=\"1\" class=\"dataframe\">\n",
       "  <thead>\n",
       "    <tr style=\"text-align: right;\">\n",
       "      <th></th>\n",
       "      <th>data</th>\n",
       "      <th>label</th>\n",
       "    </tr>\n",
       "  </thead>\n",
       "  <tbody>\n",
       "    <tr>\n",
       "      <th>70303</th>\n",
       "      <td>very important article that emphasizes how imp...</td>\n",
       "      <td>1</td>\n",
       "    </tr>\n",
       "  </tbody>\n",
       "</table>\n",
       "</div>"
      ],
      "text/plain": [
       "                                                    data  label\n",
       "70303  very important article that emphasizes how imp...      1"
      ]
     },
     "metadata": {
      "tags": []
     },
     "output_type": "display_data"
    },
    {
     "name": "stdout",
     "output_type": "stream",
     "text": [
      "   label  count\n",
      "0      0  47096\n",
      "1      1  91689\n"
     ]
    },
    {
     "data": {
      "image/png": "[encoded data removed]",
      "text/plain": [
       "<Figure size 432x288 with 1 Axes>"
      ]
     },
     "metadata": {
      "needs_background": "light",
      "tags": []
     },
     "output_type": "display_data"
    }
   ],
   "source": [
    "df = pd.read_csv(\"train.csv\")\n",
    "# 인덱스 부분 삭제\n",
    "del df[\"Unnamed: 0\"]\n",
    "\n",
    "# Train, Test 분리\n",
    "train_x, test_x, train_y, test_y = train_test_split(df[\"data\"], df[\"label\"], test_size=0.33, random_state=42)\n",
    "train_x=np.array(train_x); test_x=np.array(test_x); train_y=np.array(train_y); test_y=np.array(test_y)\n",
    "\n",
    "display(df.loc[df.data == train_x[0]])\n",
    "\n",
    "# 긍정 데이터 91,689개\n",
    "# 부정 데이터 47,096개\n",
    "df[\"label\"].value_counts().plot(kind='bar')\n",
    "print(df.groupby(\"label\").size().reset_index(name=\"count\"))"
   ]
  },
  {
   "cell_type": "code",
   "execution_count": 133,
   "metadata": {
    "id": "x8WIGOcsjsQ3"
   },
   "outputs": [],
   "source": [
    "from tensorflow.keras.preprocessing.text import text_to_word_sequence\n",
    "\n",
    "# Keras에서 제공하는 단어와 정수 인덱스를 매핑한 딕셔너리\n",
    "word_index = keras.datasets.imdb.get_word_index()\n",
    "word_index = {k:(v+3) for k,v in word_index.items()}\n",
    "\n",
    "# padding\n",
    "word_index[\"<PAD>\"] = 0\n",
    "word_index[\"<START>\"] = 1\n",
    "# unknown\n",
    "word_index[\"<UNK>\"] = 2\n",
    "word_index[\"<UNUSED>\"] = 3\n",
    "\n",
    "def encode_review(text):\n",
    "    # text를 단어별로 split, lower해줌\n",
    "    arr = text_to_word_sequence(text)    \n",
    "    res = []\n",
    "    for k, v in enumerate(arr):\n",
    "        # 딕셔너리에 있는 단어라면 append\n",
    "        try: res.append(word_index[v])\n",
    "        # 만약 딕셔너리에 없는 단어이면 Unknown으로 append\n",
    "        except KeyError: res.append(word_index[\"<UNK>\"])\n",
    "    return np.array(res)"
   ]
  },
  {
   "cell_type": "code",
   "execution_count": 138,
   "metadata": {
    "colab": {
     "base_uri": "https://localhost:8080/"
    },
    "id": "pNzMfs27j-RC",
    "outputId": "d20983e7-afb4-4d73-cc55-589d4e533879"
   },
   "outputs": [
    {
     "name": "stdout",
     "output_type": "stream",
     "text": [
      "[   55   674  7753    15 13460    89   674    14  5801    18     4     2\n",
      "   705   371   985   120     4  1357  2853]\n",
      "긍정\n"
     ]
    }
   ],
   "source": [
    "# train 데이터셋을 하나씩 정수 형태로 encoding함\n",
    "for k, sentence in enumerate(train_x):\n",
    "    train_x[k] = encode_review(sentence)\n",
    "    \n",
    "# test 데이터셋을 하나씩 정수 형태로 encodeing함\n",
    "for k, sentence in enumerate(test_x):\n",
    "    test_x[k] = encode_review(sentence)\n",
    "\n",
    "print(train_x[0])\n",
    "print(\"긍정\" if train_y[0] == 1 else \"부정\")"
   ]
  },
  {
   "cell_type": "code",
   "execution_count": 139,
   "metadata": {
    "id": "XC-RSK4WkSyf"
   },
   "outputs": [],
   "source": [
    "# 각 문장별로 길이가 다르기 때문에 패딩을 추가함\n",
    "# 이미 있는 단어는 그대로 냅두고 빈 공간을 0으로 설정\n",
    "\n",
    "train_x = keras.preprocessing.sequence.pad_sequences(\n",
    "    train_x,\n",
    "    value=word_index[\"<PAD>\"],\n",
    "    padding=\"post\",\n",
    "    maxlen=512\n",
    ")\n",
    "\n",
    "test_x = keras.preprocessing.sequence.pad_sequences(\n",
    "    test_x,\n",
    "    value=word_index[\"<PAD>\"],\n",
    "    padding=\"post\",\n",
    "    maxlen=512\n",
    ")"
   ]
  },
  {
   "cell_type": "code",
   "execution_count": 140,
   "metadata": {
    "colab": {
     "base_uri": "https://localhost:8080/"
    },
    "id": "0K-6psbGklky",
    "outputId": "f5263dfd-26e3-40db-f4c6-cdf2a964d5c7"
   },
   "outputs": [
    {
     "data": {
      "text/plain": [
       "(512, 512)"
      ]
     },
     "execution_count": 140,
     "metadata": {
      "tags": []
     },
     "output_type": "execute_result"
    }
   ],
   "source": [
    "# train과 test 데이터셋 모두 512개로 같은 길이임을 확인할 수 있음\n",
    "len(train_x[0]), len(train_x[1])"
   ]
  },
  {
   "cell_type": "code",
   "execution_count": 141,
   "metadata": {
    "colab": {
     "base_uri": "https://localhost:8080/"
    },
    "id": "PQo62fHik2rl",
    "outputId": "111f9680-e449-425c-8326-61f0804fc163"
   },
   "outputs": [
    {
     "data": {
      "text/plain": [
       "array([   55,   674,  7753,    15, 13460,    89,   674,    14,  5801,\n",
       "          18,     4,     2,   705,   371,   985,   120,     4,  1357,\n",
       "        2853,     0,     0,     0,     0,     0,     0,     0,     0,\n",
       "           0,     0,     0,     0,     0,     0,     0,     0,     0,\n",
       "           0,     0,     0,     0,     0,     0,     0,     0,     0,\n",
       "           0,     0,     0,     0,     0,     0,     0,     0,     0,\n",
       "           0,     0,     0,     0,     0,     0,     0,     0,     0,\n",
       "           0,     0,     0,     0,     0,     0,     0,     0,     0,\n",
       "           0,     0,     0,     0,     0,     0,     0,     0,     0,\n",
       "           0,     0,     0,     0,     0,     0,     0,     0,     0,\n",
       "           0,     0,     0,     0,     0,     0,     0,     0,     0,\n",
       "           0,     0,     0,     0,     0,     0,     0,     0,     0,\n",
       "           0,     0,     0,     0,     0,     0,     0,     0,     0,\n",
       "           0,     0,     0,     0,     0,     0,     0,     0,     0,\n",
       "           0,     0,     0,     0,     0,     0,     0,     0,     0,\n",
       "           0,     0,     0,     0,     0,     0,     0,     0,     0,\n",
       "           0,     0,     0,     0,     0,     0,     0,     0,     0,\n",
       "           0,     0,     0,     0,     0,     0,     0,     0,     0,\n",
       "           0,     0,     0,     0,     0,     0,     0,     0,     0,\n",
       "           0,     0,     0,     0,     0,     0,     0,     0,     0,\n",
       "           0,     0,     0,     0,     0,     0,     0,     0,     0,\n",
       "           0,     0,     0,     0,     0,     0,     0,     0,     0,\n",
       "           0,     0,     0,     0,     0,     0,     0,     0,     0,\n",
       "           0,     0,     0,     0,     0,     0,     0,     0,     0,\n",
       "           0,     0,     0,     0,     0,     0,     0,     0,     0,\n",
       "           0,     0,     0,     0,     0,     0,     0,     0,     0,\n",
       "           0,     0,     0,     0,     0,     0,     0,     0,     0,\n",
       "           0,     0,     0,     0,     0,     0,     0,     0,     0,\n",
       "           0,     0,     0,     0,     0,     0,     0,     0,     0,\n",
       "           0,     0,     0,     0,     0,     0,     0,     0,     0,\n",
       "           0,     0,     0,     0,     0,     0,     0,     0,     0,\n",
       "           0,     0,     0,     0,     0,     0,     0,     0,     0,\n",
       "           0,     0,     0,     0,     0,     0,     0,     0,     0,\n",
       "           0,     0,     0,     0,     0,     0,     0,     0,     0,\n",
       "           0,     0,     0,     0,     0,     0,     0,     0,     0,\n",
       "           0,     0,     0,     0,     0,     0,     0,     0,     0,\n",
       "           0,     0,     0,     0,     0,     0,     0,     0,     0,\n",
       "           0,     0,     0,     0,     0,     0,     0,     0,     0,\n",
       "           0,     0,     0,     0,     0,     0,     0,     0,     0,\n",
       "           0,     0,     0,     0,     0,     0,     0,     0,     0,\n",
       "           0,     0,     0,     0,     0,     0,     0,     0,     0,\n",
       "           0,     0,     0,     0,     0,     0,     0,     0,     0,\n",
       "           0,     0,     0,     0,     0,     0,     0,     0,     0,\n",
       "           0,     0,     0,     0,     0,     0,     0,     0,     0,\n",
       "           0,     0,     0,     0,     0,     0,     0,     0,     0,\n",
       "           0,     0,     0,     0,     0,     0,     0,     0,     0,\n",
       "           0,     0,     0,     0,     0,     0,     0,     0,     0,\n",
       "           0,     0,     0,     0,     0,     0,     0,     0,     0,\n",
       "           0,     0,     0,     0,     0,     0,     0,     0,     0,\n",
       "           0,     0,     0,     0,     0,     0,     0,     0,     0,\n",
       "           0,     0,     0,     0,     0,     0,     0,     0,     0,\n",
       "           0,     0,     0,     0,     0,     0,     0,     0,     0,\n",
       "           0,     0,     0,     0,     0,     0,     0,     0,     0,\n",
       "           0,     0,     0,     0,     0,     0,     0,     0,     0,\n",
       "           0,     0,     0,     0,     0,     0,     0,     0,     0,\n",
       "           0,     0,     0,     0,     0,     0,     0,     0,     0,\n",
       "           0,     0,     0,     0,     0,     0,     0,     0],\n",
       "      dtype=int32)"
      ]
     },
     "execution_count": 141,
     "metadata": {
      "tags": []
     },
     "output_type": "execute_result"
    }
   ],
   "source": [
    "train_x[0]"
   ]
  },
  {
   "cell_type": "code",
   "execution_count": 145,
   "metadata": {
    "colab": {
     "base_uri": "https://localhost:8080/"
    },
    "id": "k9H2-c36k5Pu",
    "outputId": "7c5a4a24-671f-401d-b7fa-41a51b7a89ab"
   },
   "outputs": [
    {
     "name": "stdout",
     "output_type": "stream",
     "text": [
      "Model: \"sequential_4\"\n",
      "_________________________________________________________________\n",
      "Layer (type)                 Output Shape              Param #   \n",
      "=================================================================\n",
      "embedding_4 (Embedding)      (None, None, 64)          6400000   \n",
      "_________________________________________________________________\n",
      "global_average_pooling1d_4 ( (None, 64)                0         \n",
      "_________________________________________________________________\n",
      "dense_2 (Dense)              (None, 64)                4160      \n",
      "_________________________________________________________________\n",
      "dropout_1 (Dropout)          (None, 64)                0         \n",
      "_________________________________________________________________\n",
      "dense_3 (Dense)              (None, 1)                 65        \n",
      "=================================================================\n",
      "Total params: 6,404,225\n",
      "Trainable params: 6,404,225\n",
      "Non-trainable params: 0\n",
      "_________________________________________________________________\n"
     ]
    }
   ],
   "source": [
    "vocab_size = 100000\n",
    "\n",
    "model = keras.Sequential(\n",
    "    # 단어를 벡터형태로 표현함\n",
    "    keras.layers.Embedding(vocab_size, 64, input_shape=(None,)),\n",
    "    # GlobalAveragePooling1D을 이용하여 입력으로 사용되는 리뷰에 포함된 단어 개수가 변경되더라도 같은 크기의 벡터로 처리할 수 있게 됨.\n",
    "    keras.layers.GlobalAveragePooling1D(),\n",
    "    # Relu Activation Func 사용\n",
    "    keras.layers.Dense(64, activation=tf.nn.relu),\n",
    "    # 33% 확률로 드롭아웃. 오버피팅 방지\n",
    "    keras.layers.Dropout(0.33),\n",
    "    # 긍-부정을 확률 형태로 판별하기 위해 0~1사이의 값을 갖는 Activation Func 사용.\n",
    "    keras.layers.Dense(1, activation=tf.nn.sigmoid)\n",
    ")\n",
    "\n",
    "model.summary()"
   ]
  },
  {
   "cell_type": "code",
   "execution_count": 146,
   "metadata": {
    "id": "oO4NK9x6lKH-"
   },
   "outputs": [],
   "source": [
    "# loss func은 binary_crossentropy. 예측한 확률 값과 정답 값의 거리를 측정함\n",
    "model.compile(optimizer=\"adam\",\n",
    "              loss=\"binary_crossentropy\",\n",
    "              metrics=[\"accuracy\"])"
   ]
  },
  {
   "cell_type": "code",
   "execution_count": 147,
   "metadata": {
    "colab": {
     "base_uri": "https://localhost:8080/"
    },
    "id": "o5lo5Wk9lwHQ",
    "outputId": "84ffa489-af1b-4a17-ffba-9d91a7bbe9af"
   },
   "outputs": [
    {
     "name": "stdout",
     "output_type": "stream",
     "text": [
      "[  82   67   91   84   37  264    2   26   82 1736  124  192   15   25\n",
      "   70 1128 7159   19 1736 4774   25  144   79 1578 1908 1459   54 1386\n",
      "    2    2    0    0    0    0    0    0    0    0    0    0    0    0\n",
      "    0    0    0    0    0    0    0    0    0    0    0    0    0    0\n",
      "    0    0    0    0    0    0    0    0    0    0    0    0    0    0\n",
      "    0    0    0    0    0    0    0    0    0    0    0    0    0    0\n",
      "    0    0    0    0    0    0    0    0    0    0    0    0    0    0\n",
      "    0    0    0    0    0    0    0    0    0    0    0    0    0    0\n",
      "    0    0    0    0    0    0    0    0    0    0    0    0    0    0\n",
      "    0    0    0    0    0    0    0    0    0    0    0    0    0    0\n",
      "    0    0    0    0    0    0    0    0    0    0    0    0    0    0\n",
      "    0    0    0    0    0    0    0    0    0    0    0    0    0    0\n",
      "    0    0    0    0    0    0    0    0    0    0    0    0    0    0\n",
      "    0    0    0    0    0    0    0    0    0    0    0    0    0    0\n",
      "    0    0    0    0    0    0    0    0    0    0    0    0    0    0\n",
      "    0    0    0    0    0    0    0    0    0    0    0    0    0    0\n",
      "    0    0    0    0    0    0    0    0    0    0    0    0    0    0\n",
      "    0    0    0    0    0    0    0    0    0    0    0    0    0    0\n",
      "    0    0    0    0    0    0    0    0    0    0    0    0    0    0\n",
      "    0    0    0    0    0    0    0    0    0    0    0    0    0    0\n",
      "    0    0    0    0    0    0    0    0    0    0    0    0    0    0\n",
      "    0    0    0    0    0    0    0    0    0    0    0    0    0    0\n",
      "    0    0    0    0    0    0    0    0    0    0    0    0    0    0\n",
      "    0    0    0    0    0    0    0    0    0    0    0    0    0    0\n",
      "    0    0    0    0    0    0    0    0    0    0    0    0    0    0\n",
      "    0    0    0    0    0    0    0    0    0    0    0    0    0    0\n",
      "    0    0    0    0    0    0    0    0    0    0    0    0    0    0\n",
      "    0    0    0    0    0    0    0    0    0    0    0    0    0    0\n",
      "    0    0    0    0    0    0    0    0    0    0    0    0    0    0\n",
      "    0    0    0    0    0    0    0    0    0    0    0    0    0    0\n",
      "    0    0    0    0    0    0    0    0    0    0    0    0    0    0\n",
      "    0    0    0    0    0    0    0    0    0    0    0    0    0    0\n",
      "    0    0    0    0    0    0    0    0    0    0    0    0    0    0\n",
      "    0    0    0    0    0    0    0    0    0    0    0    0    0    0\n",
      "    0    0    0    0    0    0    0    0    0    0    0    0    0    0\n",
      "    0    0    0    0    0    0    0    0    0    0    0    0    0    0\n",
      "    0    0    0    0    0    0    0    0]\n"
     ]
    }
   ],
   "source": [
    "x_val = train_x[:10000]\n",
    "partial_x_train = train_x[10000:]\n",
    "\n",
    "y_val = train_y[:10000]\n",
    "partial_y_train = train_y[10000:]\n",
    "\n",
    "print(partial_x_train[0])"
   ]
  },
  {
   "cell_type": "code",
   "execution_count": 148,
   "metadata": {
    "id": "_S0aPx8OwECE"
   },
   "outputs": [],
   "source": [
    "# 학습을 진행하면서 성능이 제일 뛰어난 모델을 사용함\n",
    "callbacks = tf.keras.callbacks.ModelCheckpoint(filepath=\"model.h5\", monitor=\"val_loss\", save_best_only=True)"
   ]
  },
  {
   "cell_type": "code",
   "execution_count": 149,
   "metadata": {
    "colab": {
     "base_uri": "https://localhost:8080/"
    },
    "id": "q9UoFoNblyYy",
    "outputId": "4161742c-902f-42d4-fd3f-1519df680298"
   },
   "outputs": [
    {
     "name": "stdout",
     "output_type": "stream",
     "text": [
      "Epoch 1/40\n",
      "163/163 [==============================] - 19s 114ms/step - loss: 0.6436 - accuracy: 0.6616 - val_loss: 0.6384 - val_accuracy: 0.6617\n",
      "Epoch 2/40\n",
      "163/163 [==============================] - 18s 111ms/step - loss: 0.6380 - accuracy: 0.6617 - val_loss: 0.6327 - val_accuracy: 0.6617\n",
      "Epoch 3/40\n",
      "163/163 [==============================] - 18s 113ms/step - loss: 0.6185 - accuracy: 0.6619 - val_loss: 0.5926 - val_accuracy: 0.6634\n",
      "Epoch 4/40\n",
      "163/163 [==============================] - 18s 112ms/step - loss: 0.5296 - accuracy: 0.7201 - val_loss: 0.4832 - val_accuracy: 0.7200\n",
      "Epoch 5/40\n",
      "163/163 [==============================] - 18s 111ms/step - loss: 0.4023 - accuracy: 0.8387 - val_loss: 0.3661 - val_accuracy: 0.8480\n",
      "Epoch 6/40\n",
      "163/163 [==============================] - 18s 113ms/step - loss: 0.3147 - accuracy: 0.8880 - val_loss: 0.3128 - val_accuracy: 0.8900\n",
      "Epoch 7/40\n",
      "163/163 [==============================] - 18s 112ms/step - loss: 0.2636 - accuracy: 0.9106 - val_loss: 0.2720 - val_accuracy: 0.9018\n",
      "Epoch 8/40\n",
      "163/163 [==============================] - 18s 113ms/step - loss: 0.2312 - accuracy: 0.9233 - val_loss: 0.2699 - val_accuracy: 0.8958\n",
      "Epoch 9/40\n",
      "163/163 [==============================] - 18s 112ms/step - loss: 0.2064 - accuracy: 0.9331 - val_loss: 0.2435 - val_accuracy: 0.9135\n",
      "Epoch 10/40\n",
      "163/163 [==============================] - 18s 113ms/step - loss: 0.1884 - accuracy: 0.9412 - val_loss: 0.2342 - val_accuracy: 0.9170\n",
      "Epoch 11/40\n",
      "163/163 [==============================] - 18s 111ms/step - loss: 0.1748 - accuracy: 0.9456 - val_loss: 0.2324 - val_accuracy: 0.9164\n",
      "Epoch 12/40\n",
      "163/163 [==============================] - 18s 112ms/step - loss: 0.1657 - accuracy: 0.9484 - val_loss: 0.2312 - val_accuracy: 0.9169\n",
      "Epoch 13/40\n",
      "163/163 [==============================] - 18s 113ms/step - loss: 0.1553 - accuracy: 0.9529 - val_loss: 0.2317 - val_accuracy: 0.9159\n",
      "Epoch 14/40\n",
      "163/163 [==============================] - 18s 112ms/step - loss: 0.1473 - accuracy: 0.9555 - val_loss: 0.2328 - val_accuracy: 0.9156\n",
      "Epoch 15/40\n",
      "163/163 [==============================] - 18s 112ms/step - loss: 0.1411 - accuracy: 0.9581 - val_loss: 0.2242 - val_accuracy: 0.9208\n",
      "Epoch 16/40\n",
      "163/163 [==============================] - 18s 112ms/step - loss: 0.1332 - accuracy: 0.9618 - val_loss: 0.2328 - val_accuracy: 0.9175\n",
      "Epoch 17/40\n",
      "163/163 [==============================] - 18s 113ms/step - loss: 0.1274 - accuracy: 0.9634 - val_loss: 0.2280 - val_accuracy: 0.9200\n",
      "Epoch 18/40\n",
      "163/163 [==============================] - 18s 113ms/step - loss: 0.1247 - accuracy: 0.9640 - val_loss: 0.2263 - val_accuracy: 0.9224\n",
      "Epoch 19/40\n",
      "163/163 [==============================] - 18s 112ms/step - loss: 0.1196 - accuracy: 0.9660 - val_loss: 0.2277 - val_accuracy: 0.9222\n",
      "Epoch 20/40\n",
      "163/163 [==============================] - 18s 112ms/step - loss: 0.1172 - accuracy: 0.9672 - val_loss: 0.2422 - val_accuracy: 0.9171\n",
      "Epoch 21/40\n",
      "163/163 [==============================] - 18s 112ms/step - loss: 0.1127 - accuracy: 0.9690 - val_loss: 0.2456 - val_accuracy: 0.9172\n",
      "Epoch 22/40\n",
      "163/163 [==============================] - 18s 111ms/step - loss: 0.1078 - accuracy: 0.9710 - val_loss: 0.2358 - val_accuracy: 0.9228\n",
      "Epoch 23/40\n",
      "163/163 [==============================] - 18s 113ms/step - loss: 0.1068 - accuracy: 0.9709 - val_loss: 0.2400 - val_accuracy: 0.9220\n",
      "Epoch 24/40\n",
      "163/163 [==============================] - 18s 112ms/step - loss: 0.1037 - accuracy: 0.9720 - val_loss: 0.2514 - val_accuracy: 0.9153\n",
      "Epoch 25/40\n",
      "163/163 [==============================] - 18s 113ms/step - loss: 0.1020 - accuracy: 0.9719 - val_loss: 0.2471 - val_accuracy: 0.9212\n",
      "Epoch 26/40\n",
      "163/163 [==============================] - 18s 113ms/step - loss: 0.0993 - accuracy: 0.9733 - val_loss: 0.2503 - val_accuracy: 0.9194\n",
      "Epoch 27/40\n",
      "163/163 [==============================] - 18s 113ms/step - loss: 0.0946 - accuracy: 0.9755 - val_loss: 0.3604 - val_accuracy: 0.8698\n",
      "Epoch 28/40\n",
      "163/163 [==============================] - 18s 113ms/step - loss: 0.0976 - accuracy: 0.9733 - val_loss: 0.2614 - val_accuracy: 0.9193\n",
      "Epoch 29/40\n",
      "163/163 [==============================] - 18s 113ms/step - loss: 0.0918 - accuracy: 0.9763 - val_loss: 0.2621 - val_accuracy: 0.9192\n",
      "Epoch 30/40\n",
      "163/163 [==============================] - 18s 113ms/step - loss: 0.0894 - accuracy: 0.9771 - val_loss: 0.2679 - val_accuracy: 0.9176\n",
      "Epoch 31/40\n",
      "163/163 [==============================] - 18s 113ms/step - loss: 0.0866 - accuracy: 0.9781 - val_loss: 0.2682 - val_accuracy: 0.9180\n",
      "Epoch 32/40\n",
      "163/163 [==============================] - 18s 113ms/step - loss: 0.0846 - accuracy: 0.9790 - val_loss: 0.2752 - val_accuracy: 0.9171\n",
      "Epoch 33/40\n",
      "163/163 [==============================] - 18s 114ms/step - loss: 0.0828 - accuracy: 0.9799 - val_loss: 0.3064 - val_accuracy: 0.9036\n",
      "Epoch 34/40\n",
      "163/163 [==============================] - 19s 114ms/step - loss: 0.0853 - accuracy: 0.9780 - val_loss: 0.2919 - val_accuracy: 0.9146\n",
      "Epoch 35/40\n",
      "163/163 [==============================] - 19s 114ms/step - loss: 0.0803 - accuracy: 0.9800 - val_loss: 0.2926 - val_accuracy: 0.9144\n",
      "Epoch 36/40\n",
      "163/163 [==============================] - 18s 113ms/step - loss: 0.0801 - accuracy: 0.9800 - val_loss: 0.2945 - val_accuracy: 0.9148\n",
      "Epoch 37/40\n",
      "163/163 [==============================] - 19s 114ms/step - loss: 0.0789 - accuracy: 0.9801 - val_loss: 0.2962 - val_accuracy: 0.9152\n",
      "Epoch 38/40\n",
      "163/163 [==============================] - 18s 113ms/step - loss: 0.0768 - accuracy: 0.9813 - val_loss: 0.2967 - val_accuracy: 0.9156\n",
      "Epoch 39/40\n",
      "163/163 [==============================] - 18s 112ms/step - loss: 0.0753 - accuracy: 0.9817 - val_loss: 0.3101 - val_accuracy: 0.9129\n",
      "Epoch 40/40\n",
      "163/163 [==============================] - 18s 112ms/step - loss: 0.0741 - accuracy: 0.9817 - val_loss: 0.3143 - val_accuracy: 0.9128\n"
     ]
    }
   ],
   "source": [
    "# 40번 학습, 미니 배치 사이즈는 512\n",
    "history = model.fit(partial_x_train,\n",
    "                    partial_y_train,\n",
    "                    epochs=40,\n",
    "                    batch_size=512,\n",
    "                    validation_data=(x_val, y_val),\n",
    "                    verbose=1,\n",
    "                    callbacks=callbacks)"
   ]
  },
  {
   "cell_type": "code",
   "execution_count": 151,
   "metadata": {
    "colab": {
     "base_uri": "https://localhost:8080/"
    },
    "id": "5yYRRcy6l5gk",
    "outputId": "cd0caddb-02df-4c27-9add-384f6a81738d"
   },
   "outputs": [
    {
     "name": "stdout",
     "output_type": "stream",
     "text": [
      "[0.32502928376197815, 0.909912645816803]\n"
     ]
    }
   ],
   "source": [
    "results = model.evaluate(test_x, test_y, verbose=3)\n",
    "\n",
    "# 90.99%의 정확도를 확인할 수 있음\n",
    "print(results)"
   ]
  },
  {
   "cell_type": "code",
   "execution_count": 152,
   "metadata": {
    "colab": {
     "base_uri": "https://localhost:8080/",
     "height": 293
    },
    "id": "14J3AK-vl71M",
    "outputId": "20999142-758b-4afb-d156-2e17f471da83"
   },
   "outputs": [
    {
     "data": {
      "image/png": "[encoded data removed]",
      "text/plain": [
       "<Figure size 864x288 with 2 Axes>"
      ]
     },
     "metadata": {
      "needs_background": "light",
      "tags": []
     },
     "output_type": "display_data"
    }
   ],
   "source": [
    "# 모델의 성능을 시각화하는 함수\n",
    "def vis(history,name) :\n",
    "    plt.title(f\"{name.upper()}\")\n",
    "    plt.xlabel('epochs')\n",
    "    plt.ylabel(f\"{name.lower()}\")\n",
    "    value = history.history.get(name)\n",
    "    val_value = history.history.get(f\"val_{name}\",None)\n",
    "    epochs = range(1, len(value)+1)\n",
    "    plt.plot(epochs, value, 'b-', label=f'training {name}')\n",
    "    if val_value is not None :\n",
    "        plt.plot(epochs, val_value, 'r:', label=f'validation {name}')\n",
    "    plt.legend(loc='upper center', bbox_to_anchor=(0.05, 1.2) , fontsize=10 , ncol=1)\n",
    "    \n",
    "def plot_history(history) :\n",
    "    key_value = list(set([i.split(\"val_\")[-1] for i in list(history.history.keys())]))\n",
    "    plt.figure(figsize=(12, 4))\n",
    "    for idx , key in enumerate(key_value) :\n",
    "        plt.subplot(1, len(key_value), idx+1)\n",
    "        vis(history, key)\n",
    "    plt.tight_layout()\n",
    "    plt.show()\n",
    "\n",
    "# LOSS 그래프는 우하향을 그리고 있고, ACC 그래프는 우상향을 그리고 있음. (오버피팅이나 언더피팅 X)\n",
    "plot_history(history)"
   ]
  },
  {
   "cell_type": "code",
   "execution_count": 169,
   "metadata": {
    "colab": {
     "base_uri": "https://localhost:8080/"
    },
    "id": "hs4MDUt162JD",
    "outputId": "4433fb8b-b663-4b6b-82bc-b8c16480c3db"
   },
   "outputs": [
    {
     "name": "stdout",
     "output_type": "stream",
     "text": [
      "[0.9999999]\n",
      "긍정\n"
     ]
    }
   ],
   "source": [
    "# TEST\n",
    "# 내 삶을 위한 첫단계 시작. 혼자서도 잘 지내자. 행복하자 : 1\n",
    "real_text = [encode_review(\"Start the first step for my life. Let's get along well on our own. Let's be happy.\")]\n",
    "\n",
    "real_text = keras.preprocessing.sequence.pad_sequences(\n",
    "    real_text,\n",
    "    value=word_index[\"<PAD>\"],\n",
    "    padding=\"post\",\n",
    "    maxlen=512\n",
    ")\n",
    "\n",
    "if model.predict(real_text)[0] > 0.5:\n",
    "    print(model.predict(real_text)[0])\n",
    "    print(\"긍정\")\n",
    "else:\n",
    "    print(model.predict(real_text)[0])\n",
    "    print(\"부정\")"
   ]
  },
  {
   "cell_type": "markdown",
   "metadata": {
    "id": "UI8EwZI-u6I5"
   },
   "source": [
    "# Reference\n",
    "\n",
    "- [영화 리뷰를 사용한 텍스트 분류  |  TensorFlow Core](https://www.tensorflow.org/tutorials/keras/text_classification)\n",
    "- [pytorch-sentiment-classification](https://github.com/clairett/pytorch-sentiment-classification)\n",
    "- [KoreanSentimentAnalyzer](https://github.com/mrlee23/KoreanSentimentAnalyzer)"
   ]
  }
 ],
 "metadata": {
  "accelerator": "GPU",
  "colab": {
   "collapsed_sections": [],
   "name": "sentiment_classification.ipynb",
   "provenance": []
  },
  "kernelspec": {
   "display_name": "Python 3",
   "language": "python",
   "name": "python3"
  },
  "language_info": {
   "codemirror_mode": {
    "name": "ipython",
    "version": 3
   },
   "file_extension": ".py",
   "mimetype": "text/x-python",
   "name": "python",
   "nbconvert_exporter": "python",
   "pygments_lexer": "ipython3",
   "version": "3.7.7"
  }
 },
 "nbformat": 4,
 "nbformat_minor": 1
}
